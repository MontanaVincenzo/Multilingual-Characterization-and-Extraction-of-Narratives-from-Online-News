{
 "cells": [
  {
   "cell_type": "code",
   "execution_count": null,
   "metadata": {
    "vscode": {
     "languageId": "plaintext"
    }
   },
   "outputs": [],
   "source": [
    "# Define repository URL and notebook file name\n",
    "github_username = \"MontanaVincenzo\"\n",
    "repo_name = \"Multilingual-Characterization-and-Extraction-of-Narratives-from-Online-News\"\n",
    "notebook_name = \"ProjectLLMs.ipynb\"\n",
    "# Construct the full repository URL\n",
    "repo_url = f\"https://github.com/{github_username}/{repo_name}.git\"\n",
    "\n",
    "# Clone the repository\n",
    "!git clone {repo_url}"
   ]
  }
 ],
 "metadata": {
  "language_info": {
   "name": "python"
  }
 },
 "nbformat": 4,
 "nbformat_minor": 2
}
